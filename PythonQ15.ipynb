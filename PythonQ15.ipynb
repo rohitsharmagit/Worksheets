{
 "cells": [
  {
   "cell_type": "code",
   "execution_count": 23,
   "metadata": {},
   "outputs": [
    {
     "name": "stdout",
     "output_type": "stream",
     "text": [
      "Enter a natual no: 10\n",
      "Sum of first ' 10 ' natural number is:  55.0\n"
     ]
    }
   ],
   "source": [
    "#Write a python program to find the sum of first ‘n’ natural numbers without using any loop. \n",
    "#Ask user to input the value of ‘n’.\n",
    "\n",
    "    \n",
    "# Taking user input\n",
    "n = input(\"Enter a natual no: \")\n",
    "num= int(n)\n",
    "\n",
    "if(num<0):\n",
    "    raise Exception(\"Sorry, no numbers below zero\")\n",
    "else:\n",
    "    sum= num * (num +1)/2\n",
    "    print(\"Sum of first '\",num,\"' natural number is: \", sum)\n"
   ]
  }
 ],
 "metadata": {
  "kernelspec": {
   "display_name": "Python 3",
   "language": "python",
   "name": "python3"
  },
  "language_info": {
   "codemirror_mode": {
    "name": "ipython",
    "version": 3
   },
   "file_extension": ".py",
   "mimetype": "text/x-python",
   "name": "python",
   "nbconvert_exporter": "python",
   "pygments_lexer": "ipython3",
   "version": "3.7.6"
  }
 },
 "nbformat": 4,
 "nbformat_minor": 4
}
